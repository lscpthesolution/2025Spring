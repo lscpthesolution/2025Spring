{
 "cells": [
  {
   "cell_type": "code",
   "execution_count": 43,
   "id": "f5441030-3adf-4c63-a345-df1869915327",
   "metadata": {},
   "outputs": [
    {
     "name": "stdout",
     "output_type": "stream",
     "text": [
      "hi\n"
     ]
    }
   ],
   "source": [
    "print(\"hi\")"
   ]
  },
  {
   "cell_type": "code",
   "execution_count": 45,
   "id": "19dcfe48-b758-44b0-8369-fee040f616af",
   "metadata": {},
   "outputs": [],
   "source": [
    "# make a new variable which stores 10\n",
    "temp = 10"
   ]
  },
  {
   "cell_type": "code",
   "execution_count": 47,
   "id": "c481fe65-ec78-42fc-8d1d-eee2bcf1ae83",
   "metadata": {},
   "outputs": [
    {
     "name": "stdout",
     "output_type": "stream",
     "text": [
      "10\n"
     ]
    }
   ],
   "source": [
    "print(temp)"
   ]
  },
  {
   "cell_type": "code",
   "execution_count": 49,
   "id": "3398a93b-b509-48e6-b9a6-e75827c55247",
   "metadata": {},
   "outputs": [],
   "source": [
    "# add 1\n",
    "temp = temp + 1"
   ]
  },
  {
   "cell_type": "code",
   "execution_count": 51,
   "id": "592fe074-6cd7-4322-b155-da1a3825b68b",
   "metadata": {},
   "outputs": [
    {
     "name": "stdout",
     "output_type": "stream",
     "text": [
      "11\n"
     ]
    }
   ],
   "source": [
    "print(temp)"
   ]
  },
  {
   "cell_type": "markdown",
   "id": "c7f7d383-e100-40c6-bc32-1e1fa9c26468",
   "metadata": {},
   "source": [
    "# You can also change the cell type as markdown!\n"
   ]
  },
  {
   "cell_type": "code",
   "execution_count": 64,
   "id": "7ef2d763-726d-4a56-ac94-498c4fbf7615",
   "metadata": {},
   "outputs": [],
   "source": [
    "# I would like to find the biggest and smallest value in the given list. please complete the lines of code.\n",
    "giveList = [99, 33, -100, 77, 88, 1, 7, 3, 100]"
   ]
  },
  {
   "cell_type": "code",
   "execution_count": null,
   "id": "5364edb6-df06-4059-bfc0-58ba296bdb35",
   "metadata": {},
   "outputs": [],
   "source": []
  },
  {
   "cell_type": "code",
   "execution_count": null,
   "id": "ff990239-686a-4b04-9cc4-07251d651528",
   "metadata": {},
   "outputs": [],
   "source": []
  },
  {
   "cell_type": "code",
   "execution_count": null,
   "id": "0da37dbd-cef0-4411-8495-57f0587d8e57",
   "metadata": {},
   "outputs": [],
   "source": []
  },
  {
   "cell_type": "code",
   "execution_count": null,
   "id": "e044c9f6-0fd6-4886-954f-5c5da3280850",
   "metadata": {},
   "outputs": [],
   "source": []
  },
  {
   "cell_type": "code",
   "execution_count": null,
   "id": "1ed0ede2-4d2e-402a-8154-82218aae72f4",
   "metadata": {},
   "outputs": [],
   "source": []
  },
  {
   "cell_type": "code",
   "execution_count": null,
   "id": "61ae238e-db70-4487-967c-86dac03b27ca",
   "metadata": {},
   "outputs": [],
   "source": []
  },
  {
   "cell_type": "code",
   "execution_count": null,
   "id": "f2df19fe-2c22-475c-889f-f0aa62ccc346",
   "metadata": {},
   "outputs": [],
   "source": []
  }
 ],
 "metadata": {
  "kernelspec": {
   "display_name": "Python 3 (ipykernel)",
   "language": "python",
   "name": "python3"
  },
  "language_info": {
   "codemirror_mode": {
    "name": "ipython",
    "version": 3
   },
   "file_extension": ".py",
   "mimetype": "text/x-python",
   "name": "python",
   "nbconvert_exporter": "python",
   "pygments_lexer": "ipython3",
   "version": "3.12.7"
  }
 },
 "nbformat": 4,
 "nbformat_minor": 5
}
