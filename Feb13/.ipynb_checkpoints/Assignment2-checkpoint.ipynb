{
 "cells": [
  {
   "cell_type": "code",
   "execution_count": 1,
   "id": "206f2af9-e33c-4fb6-8e0a-3197227e9f5c",
   "metadata": {},
   "outputs": [],
   "source": [
    "targetDict = {\"Seoyeong\":1, \"Daeju\":7, \"Sieon\":33, \"Taeyoon\":34, \"Beomkyu\":44, \"Hwanmin\":49, \"Juhyun\":61}\n",
    "countries = {\"France\":33, \"US\":1, \"UK\":44, \"Russia\":7, \"Spain\":34, \"Australia\":61, \"Germany\":49}"
   ]
  },
  {
   "cell_type": "code",
   "execution_count": 2,
   "id": "87df7197-728e-4af6-a234-91dbd64a3606",
   "metadata": {},
   "outputs": [],
   "source": [
    "# Create a list consisting of countires sorted in ascending order based on country codes."
   ]
  },
  {
   "cell_type": "code",
   "execution_count": 3,
   "id": "9e860f12-10c5-4d53-9532-3f6a641bccf3",
   "metadata": {},
   "outputs": [],
   "source": [
    "# Create a new dictionary consisting of pairs of student names and the corresponding country for each country code  "
   ]
  },
  {
   "cell_type": "code",
   "execution_count": 4,
   "id": "7aa9e230-69a4-4803-b173-bf7f2fd4bc1c",
   "metadata": {},
   "outputs": [],
   "source": [
    "# What is the sum of all the country codes above?"
   ]
  },
  {
   "cell_type": "code",
   "execution_count": 5,
   "id": "d0c916ca-75b4-4297-a4a7-1b899f59c700",
   "metadata": {},
   "outputs": [],
   "source": [
    "# Create a new dictionary consisting of pairs of student names and country codes that are not even."
   ]
  }
 ],
 "metadata": {
  "kernelspec": {
   "display_name": "Python 3 (ipykernel)",
   "language": "python",
   "name": "python3"
  },
  "language_info": {
   "codemirror_mode": {
    "name": "ipython",
    "version": 3
   },
   "file_extension": ".py",
   "mimetype": "text/x-python",
   "name": "python",
   "nbconvert_exporter": "python",
   "pygments_lexer": "ipython3",
   "version": "3.12.7"
  }
 },
 "nbformat": 4,
 "nbformat_minor": 5
}
