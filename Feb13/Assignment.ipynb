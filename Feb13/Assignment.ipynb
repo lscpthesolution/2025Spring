{
 "cells": [
  {
   "cell_type": "code",
   "execution_count": 6,
   "id": "cc841e31-445d-4670-873f-1fae3b18aed0",
   "metadata": {},
   "outputs": [],
   "source": [
    "targetList = [\"Seoyeong\", \"Daeju\", \"Sieon\", \"Taeyoon\", \"Beomkyu\", \"Hwanmin\", \"Juhyun\"]"
   ]
  },
  {
   "cell_type": "markdown",
   "id": "3ebe7a74-cd3a-437a-8ecb-d0d1a93d45f7",
   "metadata": {},
   "source": [
    "# P1"
   ]
  },
  {
   "cell_type": "code",
   "execution_count": 7,
   "id": "715c2347-eff1-4bf3-92db-0bcd2bce4668",
   "metadata": {},
   "outputs": [],
   "source": [
    "# reorder the list alphabetically using sorted()"
   ]
  },
  {
   "cell_type": "markdown",
   "id": "1e4d5026-5085-4e46-bac4-b9bf5c941a84",
   "metadata": {},
   "source": [
    "# P2"
   ]
  },
  {
   "cell_type": "code",
   "execution_count": 8,
   "id": "332789a1-1a2d-4665-9d62-2a5a8d6df51d",
   "metadata": {},
   "outputs": [],
   "source": [
    "# make a list of the numbers representing the length of each element in the list above"
   ]
  },
  {
   "cell_type": "markdown",
   "id": "112edcc5-a0fa-4b86-b41d-f14a54d1cce5",
   "metadata": {},
   "source": [
    "# P3"
   ]
  },
  {
   "cell_type": "code",
   "execution_count": 9,
   "id": "6b19c701-7e8f-43d0-81c1-a7b932d45bf2",
   "metadata": {},
   "outputs": [],
   "source": [
    "# make a list consisting of elements whose lengths are shorter than 6 or longer than 6"
   ]
  },
  {
   "cell_type": "markdown",
   "id": "f816f04a-6cae-4ecc-9711-ea8ab3eb0fa0",
   "metadata": {},
   "source": [
    "# P4"
   ]
  },
  {
   "cell_type": "code",
   "execution_count": 10,
   "id": "bbb2e7d1-c325-4e9a-916e-f976c7ffb6ee",
   "metadata": {},
   "outputs": [],
   "source": [
    "# from P2, add all the elements in the list and return the result as a value by using reduce()"
   ]
  },
  {
   "cell_type": "markdown",
   "id": "be4c519f-db74-4b06-a753-ad1f95f60973",
   "metadata": {},
   "source": [
    "# P5"
   ]
  },
  {
   "cell_type": "code",
   "execution_count": 13,
   "id": "6f1bc4b7-9931-44a1-b609-23a9413938f7",
   "metadata": {},
   "outputs": [],
   "source": [
    "# reverse the list"
   ]
  }
 ],
 "metadata": {
  "kernelspec": {
   "display_name": "Python 3 (ipykernel)",
   "language": "python",
   "name": "python3"
  },
  "language_info": {
   "codemirror_mode": {
    "name": "ipython",
    "version": 3
   },
   "file_extension": ".py",
   "mimetype": "text/x-python",
   "name": "python",
   "nbconvert_exporter": "python",
   "pygments_lexer": "ipython3",
   "version": "3.12.7"
  }
 },
 "nbformat": 4,
 "nbformat_minor": 5
}
