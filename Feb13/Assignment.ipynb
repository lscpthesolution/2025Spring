{
 "cells": [
  {
   "cell_type": "code",
   "execution_count": 1,
   "id": "cc841e31-445d-4670-873f-1fae3b18aed0",
   "metadata": {},
   "outputs": [],
   "source": [
    "targetList = [\"Seoyeong\", \"Daeju\", \"Sieon\", \"Taeyoon\", \"Beomkyu\", \"Hwanmin\", \"Juhyun\"]"
   ]
  },
  {
   "cell_type": "markdown",
   "id": "3ebe7a74-cd3a-437a-8ecb-d0d1a93d45f7",
   "metadata": {},
   "source": [
    "# P1"
   ]
  },
  {
   "cell_type": "code",
   "execution_count": 2,
   "id": "715c2347-eff1-4bf3-92db-0bcd2bce4668",
   "metadata": {},
   "outputs": [],
   "source": [
    "# reorder the list alphabetically using sorted()"
   ]
  },
  {
   "cell_type": "markdown",
   "id": "1e4d5026-5085-4e46-bac4-b9bf5c941a84",
   "metadata": {},
   "source": [
    "# P2"
   ]
  },
  {
   "cell_type": "code",
   "execution_count": 9,
   "id": "332789a1-1a2d-4665-9d62-2a5a8d6df51d",
   "metadata": {},
   "outputs": [],
   "source": [
    "# make a list of the numbers representing the length of each element in the list above\n",
    "p2 = list(map(lambda x: len(x), targetList))"
   ]
  },
  {
   "cell_type": "markdown",
   "id": "112edcc5-a0fa-4b86-b41d-f14a54d1cce5",
   "metadata": {},
   "source": [
    "# P3"
   ]
  },
  {
   "cell_type": "code",
   "execution_count": 8,
   "id": "6b19c701-7e8f-43d0-81c1-a7b932d45bf2",
   "metadata": {},
   "outputs": [
    {
     "data": {
      "text/plain": [
       "['Seoyeong', 'Daeju', 'Sieon', 'Taeyoon', 'Beomkyu', 'Hwanmin']"
      ]
     },
     "execution_count": 8,
     "metadata": {},
     "output_type": "execute_result"
    }
   ],
   "source": [
    "# make a list consisting of elements whose lengths are shorter than 6 or longer than 6\n",
    "list(filter(lambda x: len(x) > 6 or len(x) < 6, targetList))"
   ]
  },
  {
   "cell_type": "markdown",
   "id": "f816f04a-6cae-4ecc-9711-ea8ab3eb0fa0",
   "metadata": {},
   "source": [
    "# P4"
   ]
  },
  {
   "cell_type": "code",
   "execution_count": 10,
   "id": "bbb2e7d1-c325-4e9a-916e-f976c7ffb6ee",
   "metadata": {},
   "outputs": [],
   "source": [
    "# from P2, add all the elements in the list and return the result as a value by using reduce()\n",
    "from functools import reduce"
   ]
  },
  {
   "cell_type": "code",
   "execution_count": 13,
   "id": "6fb60551-989e-41d5-8eea-9445571a7ee7",
   "metadata": {},
   "outputs": [
    {
     "data": {
      "text/plain": [
       "45"
      ]
     },
     "execution_count": 13,
     "metadata": {},
     "output_type": "execute_result"
    }
   ],
   "source": [
    "reduce(lambda x,y:x+y, p2)"
   ]
  },
  {
   "cell_type": "markdown",
   "id": "be4c519f-db74-4b06-a753-ad1f95f60973",
   "metadata": {},
   "source": [
    "# P5"
   ]
  },
  {
   "cell_type": "code",
   "execution_count": 16,
   "id": "6f1bc4b7-9931-44a1-b609-23a9413938f7",
   "metadata": {},
   "outputs": [
    {
     "data": {
      "text/plain": [
       "['Seoyeong', 'Daeju', 'Sieon', 'Taeyoon', 'Beomkyu', 'Hwanmin', 'Juhyun']"
      ]
     },
     "execution_count": 16,
     "metadata": {},
     "output_type": "execute_result"
    }
   ],
   "source": [
    "# reverse the list\n",
    "targetList"
   ]
  },
  {
   "cell_type": "code",
   "execution_count": 18,
   "id": "82e199bc-2672-43ea-909f-80a6407acbc9",
   "metadata": {},
   "outputs": [
    {
     "data": {
      "text/plain": [
       "0"
      ]
     },
     "execution_count": 18,
     "metadata": {},
     "output_type": "execute_result"
    }
   ],
   "source": [
    "targetList.index('Seoyeong')"
   ]
  },
  {
   "cell_type": "code",
   "execution_count": 24,
   "id": "ea7be33c-b7ad-4085-8378-147ceeabba3c",
   "metadata": {},
   "outputs": [
    {
     "data": {
      "text/plain": [
       "['Juhyun', 'Hwanmin', 'Beomkyu', 'Taeyoon', 'Sieon', 'Daeju', 'Seoyeong']"
      ]
     },
     "execution_count": 24,
     "metadata": {},
     "output_type": "execute_result"
    }
   ],
   "source": [
    "list(sorted(targetList, key=lambda x:targetList.index(x), reverse=True))"
   ]
  },
  {
   "cell_type": "code",
   "execution_count": null,
   "id": "2572599f-29f2-41df-b291-df1c2bd93a8b",
   "metadata": {},
   "outputs": [],
   "source": []
  }
 ],
 "metadata": {
  "kernelspec": {
   "display_name": "Python 3 (ipykernel)",
   "language": "python",
   "name": "python3"
  },
  "language_info": {
   "codemirror_mode": {
    "name": "ipython",
    "version": 3
   },
   "file_extension": ".py",
   "mimetype": "text/x-python",
   "name": "python",
   "nbconvert_exporter": "python",
   "pygments_lexer": "ipython3",
   "version": "3.12.7"
  }
 },
 "nbformat": 4,
 "nbformat_minor": 5
}
