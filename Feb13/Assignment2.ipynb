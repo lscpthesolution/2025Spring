{
 "cells": [
  {
   "cell_type": "code",
   "execution_count": 6,
   "id": "c19fe05a-1e88-432f-a973-323b369c33fe",
   "metadata": {},
   "outputs": [
    {
     "name": "stdout",
     "output_type": "stream",
     "text": [
      "1\n",
      "7\n",
      "33\n",
      "34\n",
      "44\n",
      "49\n",
      "61\n"
     ]
    }
   ],
   "source": [
    "for each in targetDict.items():\n",
    "    print(each[1])"
   ]
  },
  {
   "cell_type": "code",
   "execution_count": 8,
   "id": "87df7197-728e-4af6-a234-91dbd64a3606",
   "metadata": {},
   "outputs": [],
   "source": [
    "# Create a list consisting of countires sorted in ascending order based on country codes.\n",
    "temp = sorted(targetDict.items(), key=lambda x:x[1])"
   ]
  },
  {
   "cell_type": "code",
   "execution_count": 9,
   "id": "8eedcc92-852d-448a-835d-42d1a0c2d86a",
   "metadata": {},
   "outputs": [
    {
     "data": {
      "text/plain": [
       "[('Seoyeong', 1),\n",
       " ('Daeju', 7),\n",
       " ('Sieon', 33),\n",
       " ('Taeyoon', 34),\n",
       " ('Beomkyu', 44),\n",
       " ('Hwanmin', 49),\n",
       " ('Juhyun', 61)]"
      ]
     },
     "execution_count": 9,
     "metadata": {},
     "output_type": "execute_result"
    }
   ],
   "source": [
    "temp"
   ]
  },
  {
   "cell_type": "code",
   "execution_count": 11,
   "id": "9e860f12-10c5-4d53-9532-3f6a641bccf3",
   "metadata": {},
   "outputs": [
    {
     "data": {
      "text/plain": [
       "['Seoyeong', 'Daeju', 'Sieon', 'Taeyoon', 'Beomkyu', 'Hwanmin', 'Juhyun']"
      ]
     },
     "execution_count": 11,
     "metadata": {},
     "output_type": "execute_result"
    }
   ],
   "source": [
    "# Create a new dictionary consisting of pairs of student names and the corresponding country for each country code \n",
    "list(map(lambda x:x, targetDict))"
   ]
  },
  {
   "cell_type": "code",
   "execution_count": 12,
   "id": "73ab8384-8526-4838-89b7-f3eb51885445",
   "metadata": {},
   "outputs": [
    {
     "data": {
      "text/plain": [
       "[1, 7, 33, 34, 44, 49, 61]"
      ]
     },
     "execution_count": 12,
     "metadata": {},
     "output_type": "execute_result"
    }
   ],
   "source": [
    "list(map(lambda x:targetDict[x], targetDict))"
   ]
  },
  {
   "cell_type": "code",
   "execution_count": 18,
   "id": "e643e013-e4fe-42e9-ac1a-fdd5141d647b",
   "metadata": {},
   "outputs": [
    {
     "name": "stdout",
     "output_type": "stream",
     "text": [
      "1\n"
     ]
    }
   ],
   "source": [
    "print(countries.get(\"US\"))"
   ]
  },
  {
   "cell_type": "code",
   "execution_count": 20,
   "id": "7ffe91ed-b940-418b-8dea-fd70d3c9ad86",
   "metadata": {},
   "outputs": [
    {
     "data": {
      "text/plain": [
       "[33, 1, 44, 7, 34, 61, 49]"
      ]
     },
     "execution_count": 20,
     "metadata": {},
     "output_type": "execute_result"
    }
   ],
   "source": [
    "[countries.get(key) for key in countries]"
   ]
  },
  {
   "cell_type": "code",
   "execution_count": 21,
   "id": "a9f98fd4-42f1-4fe2-a7b8-63af254c4286",
   "metadata": {},
   "outputs": [],
   "source": [
    "def helper(value : int) -> str:\n",
    "    outcome = None\n",
    "    for key in countries:\n",
    "        if value == countries[key]:\n",
    "            outcome = key\n",
    "            break\n",
    "            \n",
    "    return outcome"
   ]
  },
  {
   "cell_type": "code",
   "execution_count": 28,
   "id": "5d03a3fa-61e8-477c-ae58-5fc7a71e16fe",
   "metadata": {},
   "outputs": [],
   "source": [
    "t2= targetDict.keys()"
   ]
  },
  {
   "cell_type": "code",
   "execution_count": 29,
   "id": "e2df2d24-5c66-4124-a50b-7487e7b7e10d",
   "metadata": {},
   "outputs": [],
   "source": [
    "t1 = list(map(lambda x:helper(targetDict[x]), targetDict))"
   ]
  },
  {
   "cell_type": "code",
   "execution_count": 30,
   "id": "6eeb6430-2bb9-4ed0-808c-4e3f83cc6a20",
   "metadata": {},
   "outputs": [
    {
     "data": {
      "text/plain": [
       "{'Seoyeong': 'US',\n",
       " 'Daeju': 'Russia',\n",
       " 'Sieon': 'France',\n",
       " 'Taeyoon': 'Spain',\n",
       " 'Beomkyu': 'UK',\n",
       " 'Hwanmin': 'Germany',\n",
       " 'Juhyun': 'Australia'}"
      ]
     },
     "execution_count": 30,
     "metadata": {},
     "output_type": "execute_result"
    }
   ],
   "source": [
    "dict(zip(t2, t1))"
   ]
  },
  {
   "cell_type": "code",
   "execution_count": 2,
   "id": "206f2af9-e33c-4fb6-8e0a-3197227e9f5c",
   "metadata": {},
   "outputs": [],
   "source": [
    "targetDict = {\"Seoyeong\":1, \"Daeju\":7, \"Sieon\":33, \"Taeyoon\":34, \"Beomkyu\":44, \"Hwanmin\":49, \"Juhyun\":61}\n",
    "countries = {\"France\":33, \"US\":1, \"UK\":44, \"Russia\":7, \"Spain\":34, \"Australia\":61, \"Germany\":49}"
   ]
  },
  {
   "cell_type": "code",
   "execution_count": 31,
   "id": "7aa9e230-69a4-4803-b173-bf7f2fd4bc1c",
   "metadata": {},
   "outputs": [],
   "source": [
    "# What is the sum of all the country codes above?\n",
    "from functools import reduce"
   ]
  },
  {
   "cell_type": "code",
   "execution_count": 32,
   "id": "31e0db7e-5a62-4d0c-9f61-83f9263e61cd",
   "metadata": {},
   "outputs": [
    {
     "data": {
      "text/plain": [
       "229"
      ]
     },
     "execution_count": 32,
     "metadata": {},
     "output_type": "execute_result"
    }
   ],
   "source": [
    "reduce(lambda x,y:x+y, countries.values())"
   ]
  },
  {
   "cell_type": "code",
   "execution_count": 39,
   "id": "d0c916ca-75b4-4297-a4a7-1b899f59c700",
   "metadata": {},
   "outputs": [
    {
     "data": {
      "text/plain": [
       "{'France': 33, 'US': 1, 'Russia': 7, 'Australia': 61, 'Germany': 49}"
      ]
     },
     "execution_count": 39,
     "metadata": {},
     "output_type": "execute_result"
    }
   ],
   "source": [
    "# Create a new dictionary consisting of pairs of student names and country codes that are not even.\n",
    "dict(filter(lambda x: countries[x[0]]%2==1, countries.items()))"
   ]
  },
  {
   "cell_type": "code",
   "execution_count": null,
   "id": "60824ecc-15ad-4613-bf9c-9f6120a01b65",
   "metadata": {},
   "outputs": [],
   "source": []
  }
 ],
 "metadata": {
  "kernelspec": {
   "display_name": "Python 3 (ipykernel)",
   "language": "python",
   "name": "python3"
  },
  "language_info": {
   "codemirror_mode": {
    "name": "ipython",
    "version": 3
   },
   "file_extension": ".py",
   "mimetype": "text/x-python",
   "name": "python",
   "nbconvert_exporter": "python",
   "pygments_lexer": "ipython3",
   "version": "3.12.7"
  }
 },
 "nbformat": 4,
 "nbformat_minor": 5
}
