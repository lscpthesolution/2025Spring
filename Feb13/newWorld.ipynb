{
 "cells": [
  {
   "cell_type": "code",
   "execution_count": 1,
   "id": "e8faff47-a7ca-4a7a-b01d-aed1c6936d40",
   "metadata": {},
   "outputs": [],
   "source": [
    "#lambda\n",
    "#lambda arg : expression"
   ]
  },
  {
   "cell_type": "code",
   "execution_count": 2,
   "id": "d22456ff-cedd-4eab-82bb-7bf9c54f90d9",
   "metadata": {},
   "outputs": [],
   "source": [
    "def add(x, y):\n",
    "    return x + y"
   ]
  },
  {
   "cell_type": "code",
   "execution_count": 3,
   "id": "6c519da2-e766-4780-8ba9-b41a42d92a77",
   "metadata": {},
   "outputs": [
    {
     "data": {
      "text/plain": [
       "10"
      ]
     },
     "execution_count": 3,
     "metadata": {},
     "output_type": "execute_result"
    }
   ],
   "source": [
    "add(3,7)"
   ]
  },
  {
   "cell_type": "code",
   "execution_count": 4,
   "id": "66d7566a-23e6-44c9-a522-db6028d91f1e",
   "metadata": {},
   "outputs": [],
   "source": [
    "add = lambda x, y: x + y"
   ]
  },
  {
   "cell_type": "code",
   "execution_count": 5,
   "id": "96e69074-b5ae-468d-b335-d56024c6186f",
   "metadata": {},
   "outputs": [
    {
     "data": {
      "text/plain": [
       "10"
      ]
     },
     "execution_count": 5,
     "metadata": {},
     "output_type": "execute_result"
    }
   ],
   "source": [
    "add(3,7)"
   ]
  },
  {
   "cell_type": "markdown",
   "id": "a60f475a-1e6e-4830-978d-e60854b8a101",
   "metadata": {},
   "source": [
    "# ex1"
   ]
  },
  {
   "cell_type": "code",
   "execution_count": 6,
   "id": "08348da5-f558-4f2c-8943-864eac7dcaa4",
   "metadata": {},
   "outputs": [],
   "source": [
    "# ex1\n",
    "mylist = [1, 2, 3, 4, 5]"
   ]
  },
  {
   "cell_type": "code",
   "execution_count": 7,
   "id": "b961c533-2da4-4cbb-8c90-c20b3e976710",
   "metadata": {},
   "outputs": [],
   "source": [
    "mylist2 = list(map(lambda x: x * 2, mylist))"
   ]
  },
  {
   "cell_type": "code",
   "execution_count": 8,
   "id": "3a591e61-6e36-468c-bf97-881803ce9adc",
   "metadata": {},
   "outputs": [
    {
     "data": {
      "text/plain": [
       "[2, 4, 6, 8, 10]"
      ]
     },
     "execution_count": 8,
     "metadata": {},
     "output_type": "execute_result"
    }
   ],
   "source": [
    "mylist2"
   ]
  },
  {
   "cell_type": "markdown",
   "id": "d72c8767-a524-42be-bf1d-52627312c9e2",
   "metadata": {},
   "source": [
    "# ex2"
   ]
  },
  {
   "cell_type": "code",
   "execution_count": 9,
   "id": "c236d41a-71e2-4f5f-8b8a-674750d0d83d",
   "metadata": {},
   "outputs": [],
   "source": [
    "#ex2\n",
    "mylist = [1, 2, 3, 4, 5]"
   ]
  },
  {
   "cell_type": "code",
   "execution_count": 10,
   "id": "0e6f56dd-cd03-4ed5-b3aa-acd44456db87",
   "metadata": {},
   "outputs": [],
   "source": [
    "mylist2 = list(filter(lambda x: x % 2 == 1, mylist))"
   ]
  },
  {
   "cell_type": "code",
   "execution_count": 11,
   "id": "4d8f584f-3365-466f-abce-c62b717443b8",
   "metadata": {},
   "outputs": [
    {
     "data": {
      "text/plain": [
       "[1, 3, 5]"
      ]
     },
     "execution_count": 11,
     "metadata": {},
     "output_type": "execute_result"
    }
   ],
   "source": [
    "mylist2"
   ]
  },
  {
   "cell_type": "markdown",
   "id": "a5971ab1-78a5-4c0a-8c62-fb97841c3a8e",
   "metadata": {},
   "source": [
    "# ex3"
   ]
  },
  {
   "cell_type": "code",
   "execution_count": 12,
   "id": "fa4dc4e9-1e5c-485e-a8b6-8edd46affa75",
   "metadata": {},
   "outputs": [],
   "source": [
    "#ex3\n",
    "movie_dict = {\"Toy story\":10, \"Iron man\":3, \"Coco\":17, \"Wreck it ralph\":9}"
   ]
  },
  {
   "cell_type": "code",
   "execution_count": 13,
   "id": "371a9465-4a7a-4ce1-a602-3928feb5a543",
   "metadata": {},
   "outputs": [],
   "source": [
    "result = sorted(movie_dict.items(), key = lambda x: x[1])"
   ]
  },
  {
   "cell_type": "code",
   "execution_count": 14,
   "id": "f3af7dd2-0056-4904-956c-b0a41a05138c",
   "metadata": {},
   "outputs": [
    {
     "data": {
      "text/plain": [
       "[('Iron man', 3), ('Wreck it ralph', 9), ('Toy story', 10), ('Coco', 17)]"
      ]
     },
     "execution_count": 14,
     "metadata": {},
     "output_type": "execute_result"
    }
   ],
   "source": [
    "result"
   ]
  },
  {
   "cell_type": "markdown",
   "id": "e0d52900-99d1-4de5-925a-384b0abb4dfb",
   "metadata": {},
   "source": [
    "# ex4"
   ]
  },
  {
   "cell_type": "code",
   "execution_count": 15,
   "id": "70ca3d01-caaf-4c19-997b-b23160da10cd",
   "metadata": {},
   "outputs": [],
   "source": [
    "from functools import reduce\n",
    "\n",
    "mylist = [1, 2, 3, 4, 5]"
   ]
  },
  {
   "cell_type": "code",
   "execution_count": 16,
   "id": "bd7a4058-5a39-45f3-90f0-f117ab416238",
   "metadata": {},
   "outputs": [],
   "source": [
    "result = reduce(lambda x, y: x * y, mylist)"
   ]
  },
  {
   "cell_type": "code",
   "execution_count": 17,
   "id": "5535c1e3-02d6-430d-a6a3-5f9a896c5fd1",
   "metadata": {},
   "outputs": [
    {
     "data": {
      "text/plain": [
       "120"
      ]
     },
     "execution_count": 17,
     "metadata": {},
     "output_type": "execute_result"
    }
   ],
   "source": [
    "result"
   ]
  },
  {
   "cell_type": "code",
   "execution_count": null,
   "id": "3d5877fa-4c50-48fd-911a-917abeaf8cb0",
   "metadata": {},
   "outputs": [],
   "source": []
  }
 ],
 "metadata": {
  "kernelspec": {
   "display_name": "Python 3 (ipykernel)",
   "language": "python",
   "name": "python3"
  },
  "language_info": {
   "codemirror_mode": {
    "name": "ipython",
    "version": 3
   },
   "file_extension": ".py",
   "mimetype": "text/x-python",
   "name": "python",
   "nbconvert_exporter": "python",
   "pygments_lexer": "ipython3",
   "version": "3.12.7"
  }
 },
 "nbformat": 4,
 "nbformat_minor": 5
}
