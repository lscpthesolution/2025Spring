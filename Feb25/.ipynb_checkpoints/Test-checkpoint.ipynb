{
 "cells": [
  {
   "cell_type": "code",
   "execution_count": 8,
   "id": "127dd832-f849-4ba7-b371-8dbbba9deae5",
   "metadata": {},
   "outputs": [],
   "source": [
    "hi = [1,2,3,4,5,6,7,8,9,10]      # [2,4,6,8,10,12,14,16,18,20]"
   ]
  },
  {
   "cell_type": "code",
   "execution_count": 9,
   "id": "cd0bd433-0f46-489b-9125-23c67511d348",
   "metadata": {},
   "outputs": [],
   "source": [
    "# What function should you use?"
   ]
  },
  {
   "cell_type": "code",
   "execution_count": 10,
   "id": "297f8bc6-1103-4721-99d2-c3f7e828aee8",
   "metadata": {},
   "outputs": [],
   "source": [
    "# show your code\n"
   ]
  },
  {
   "cell_type": "code",
   "execution_count": 11,
   "id": "0507acdc-bf64-49d0-9c82-647980572497",
   "metadata": {},
   "outputs": [],
   "source": [
    "hi = [1,2,3,4,5,6,7,8,9,10]      # [3,6,9]"
   ]
  },
  {
   "cell_type": "code",
   "execution_count": 12,
   "id": "212c1369-4592-40a8-9fa3-5c6b94dbf30c",
   "metadata": {},
   "outputs": [],
   "source": [
    "# What function should you use?"
   ]
  },
  {
   "cell_type": "code",
   "execution_count": 13,
   "id": "e66acb43-a59e-4860-be39-a1d4200cd565",
   "metadata": {},
   "outputs": [],
   "source": [
    "# show your code"
   ]
  },
  {
   "cell_type": "code",
   "execution_count": 14,
   "id": "af92ef3a-7def-4f8a-9473-44c755584fcd",
   "metadata": {},
   "outputs": [],
   "source": [
    "hi = [1,2,3,4,5,6,7,8,9,10]      # 30"
   ]
  },
  {
   "cell_type": "code",
   "execution_count": 15,
   "id": "e46ed0f6-2eea-4193-abc1-5e779f6f76c5",
   "metadata": {},
   "outputs": [],
   "source": [
    "# What function should you use?"
   ]
  },
  {
   "cell_type": "code",
   "execution_count": 16,
   "id": "8168518a-fa0a-4be4-99a6-b54e75e97970",
   "metadata": {},
   "outputs": [],
   "source": [
    "# show your code"
   ]
  },
  {
   "cell_type": "code",
   "execution_count": 17,
   "id": "0780d431-6eb1-45de-a490-210832a5dff9",
   "metadata": {},
   "outputs": [],
   "source": [
    "bye = [4,10,2,5,-1,7]       #[10,7,5,4,2,-1]"
   ]
  },
  {
   "cell_type": "code",
   "execution_count": 18,
   "id": "a7940624-5bfb-45ac-bb7a-8201487d2088",
   "metadata": {},
   "outputs": [],
   "source": [
    "# What function should you use?"
   ]
  },
  {
   "cell_type": "code",
   "execution_count": 19,
   "id": "e970c9b4-56c6-4d93-b34b-638c9e56ba25",
   "metadata": {},
   "outputs": [],
   "source": [
    "# show your code"
   ]
  }
 ],
 "metadata": {
  "kernelspec": {
   "display_name": "Python 3 (ipykernel)",
   "language": "python",
   "name": "python3"
  },
  "language_info": {
   "codemirror_mode": {
    "name": "ipython",
    "version": 3
   },
   "file_extension": ".py",
   "mimetype": "text/x-python",
   "name": "python",
   "nbconvert_exporter": "python",
   "pygments_lexer": "ipython3",
   "version": "3.12.7"
  }
 },
 "nbformat": 4,
 "nbformat_minor": 5
}
