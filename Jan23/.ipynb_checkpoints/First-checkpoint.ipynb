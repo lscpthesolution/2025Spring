{
 "cells": [
  {
   "cell_type": "code",
   "execution_count": 219,
   "id": "3f5e2bd0-b363-407a-8a50-16b38f783c03",
   "metadata": {},
   "outputs": [],
   "source": [
    "# import pandas and read your csv file with it\n",
    "import pandas as pd\n",
    "\n",
    "df = pd.read_csv(\"./../DataFiles/CCTVs for all districts in Seoul until 20240630.csv\", encoding=\"utf-8\")"
   ]
  },
  {
   "cell_type": "code",
   "execution_count": 220,
   "id": "fd08f399-0200-4ead-9fd5-1921536819b3",
   "metadata": {},
   "outputs": [],
   "source": [
    "# Renaming columns\n",
    "for each in range(len(df.columns)):\n",
    "    df.rename(columns={df.columns[each]:df.loc[0].iloc[each]}, inplace=True)"
   ]
  },
  {
   "cell_type": "code",
   "execution_count": 221,
   "id": "f45a6e8e-5557-45bf-ad0e-761747c7d6ea",
   "metadata": {},
   "outputs": [],
   "source": [
    "# drop the first row (duplicated)\n",
    "df = df.drop(0)"
   ]
  },
  {
   "cell_type": "code",
   "execution_count": 222,
   "id": "e7d0a5f0-6feb-4aac-9f0d-b6ea8a18060b",
   "metadata": {},
   "outputs": [],
   "source": [
    "# filter the unnecessary columns\n",
    "df=df[[each for each in df.columns[1:13]]]"
   ]
  },
  {
   "cell_type": "code",
   "execution_count": 223,
   "id": "0c7ea660-917d-4445-ae6a-22d4f2554fbb",
   "metadata": {},
   "outputs": [],
   "source": [
    "# Handle the nan issue in the first row \n",
    "target = list(df.loc[1])[:-1]\n",
    "target.insert(0, '서울')\n",
    "df.loc[1] = target"
   ]
  },
  {
   "cell_type": "code",
   "execution_count": 224,
   "id": "28949f2f-1801-4a9d-bb9b-a42f74e16d3f",
   "metadata": {},
   "outputs": [
    {
     "data": {
      "text/html": [
       "<div>\n",
       "<style scoped>\n",
       "    .dataframe tbody tr th:only-of-type {\n",
       "        vertical-align: middle;\n",
       "    }\n",
       "\n",
       "    .dataframe tbody tr th {\n",
       "        vertical-align: top;\n",
       "    }\n",
       "\n",
       "    .dataframe thead th {\n",
       "        text-align: right;\n",
       "    }\n",
       "</style>\n",
       "<table border=\"1\" class=\"dataframe\">\n",
       "  <thead>\n",
       "    <tr style=\"text-align: right;\">\n",
       "      <th></th>\n",
       "      <th>구분</th>\n",
       "      <th>총 계</th>\n",
       "      <th>2016년 이전 설치된 CCTV</th>\n",
       "      <th>2016년</th>\n",
       "      <th>2017년</th>\n",
       "      <th>2018년</th>\n",
       "      <th>2019년</th>\n",
       "      <th>2020년</th>\n",
       "      <th>2021년</th>\n",
       "      <th>2022년</th>\n",
       "      <th>2023년</th>\n",
       "      <th>2024년</th>\n",
       "    </tr>\n",
       "  </thead>\n",
       "  <tbody>\n",
       "    <tr>\n",
       "      <th>1</th>\n",
       "      <td>서울</td>\n",
       "      <td>102,380</td>\n",
       "      <td>11,692</td>\n",
       "      <td>8,225</td>\n",
       "      <td>10,865</td>\n",
       "      <td>10,652</td>\n",
       "      <td>12,854</td>\n",
       "      <td>11,838</td>\n",
       "      <td>9,558</td>\n",
       "      <td>9,218</td>\n",
       "      <td>13,919</td>\n",
       "      <td>3,559</td>\n",
       "    </tr>\n",
       "    <tr>\n",
       "      <th>2</th>\n",
       "      <td>종로구</td>\n",
       "      <td>2,290</td>\n",
       "      <td>230</td>\n",
       "      <td>100</td>\n",
       "      <td>140</td>\n",
       "      <td>140</td>\n",
       "      <td>66</td>\n",
       "      <td>233</td>\n",
       "      <td>85</td>\n",
       "      <td>219</td>\n",
       "      <td>919</td>\n",
       "      <td>158</td>\n",
       "    </tr>\n",
       "    <tr>\n",
       "      <th>3</th>\n",
       "      <td>중 구</td>\n",
       "      <td>3,021</td>\n",
       "      <td>376</td>\n",
       "      <td>220</td>\n",
       "      <td>366</td>\n",
       "      <td>381</td>\n",
       "      <td>155</td>\n",
       "      <td>357</td>\n",
       "      <td>414</td>\n",
       "      <td>137</td>\n",
       "      <td>135</td>\n",
       "      <td>480</td>\n",
       "    </tr>\n",
       "    <tr>\n",
       "      <th>4</th>\n",
       "      <td>용산구</td>\n",
       "      <td>3,300</td>\n",
       "      <td>106</td>\n",
       "      <td>295</td>\n",
       "      <td>491</td>\n",
       "      <td>147</td>\n",
       "      <td>335</td>\n",
       "      <td>473</td>\n",
       "      <td>486</td>\n",
       "      <td>413</td>\n",
       "      <td>492</td>\n",
       "      <td>62</td>\n",
       "    </tr>\n",
       "    <tr>\n",
       "      <th>5</th>\n",
       "      <td>성동구</td>\n",
       "      <td>4,514</td>\n",
       "      <td>542</td>\n",
       "      <td>278</td>\n",
       "      <td>939</td>\n",
       "      <td>457</td>\n",
       "      <td>640</td>\n",
       "      <td>483</td>\n",
       "      <td>366</td>\n",
       "      <td>233</td>\n",
       "      <td>471</td>\n",
       "      <td>105</td>\n",
       "    </tr>\n",
       "  </tbody>\n",
       "</table>\n",
       "</div>"
      ],
      "text/plain": [
       "    구분      총 계 2016년 이전 설치된 CCTV   2016년   2017년   2018년   2019년   2020년  \\\n",
       "1   서울  102,380             11,692  8,225  10,865  10,652  12,854  11,838   \n",
       "2  종로구    2,290                230    100     140     140      66     233   \n",
       "3  중 구    3,021                376    220     366     381     155     357   \n",
       "4  용산구    3,300                106    295     491     147     335     473   \n",
       "5  성동구    4,514                542    278     939     457     640     483   \n",
       "\n",
       "   2021년  2022년   2023년  2024년  \n",
       "1  9,558  9,218  13,919  3,559  \n",
       "2     85    219     919    158  \n",
       "3    414    137     135    480  \n",
       "4    486    413     492     62  \n",
       "5    366    233     471    105  "
      ]
     },
     "execution_count": 224,
     "metadata": {},
     "output_type": "execute_result"
    }
   ],
   "source": [
    "df.head()"
   ]
  },
  {
   "cell_type": "code",
   "execution_count": null,
   "id": "76e3a010-b410-4002-a54d-ed53cb3617ea",
   "metadata": {},
   "outputs": [],
   "source": []
  },
  {
   "cell_type": "code",
   "execution_count": null,
   "id": "5a26f535-735e-4b88-b8ec-972567946878",
   "metadata": {},
   "outputs": [],
   "source": []
  },
  {
   "cell_type": "code",
   "execution_count": null,
   "id": "4da5f32f-5302-4ce0-af1b-aea403df0c25",
   "metadata": {},
   "outputs": [],
   "source": []
  }
 ],
 "metadata": {
  "kernelspec": {
   "display_name": "Python 3 (ipykernel)",
   "language": "python",
   "name": "python3"
  },
  "language_info": {
   "codemirror_mode": {
    "name": "ipython",
    "version": 3
   },
   "file_extension": ".py",
   "mimetype": "text/x-python",
   "name": "python",
   "nbconvert_exporter": "python",
   "pygments_lexer": "ipython3",
   "version": "3.12.7"
  }
 },
 "nbformat": 4,
 "nbformat_minor": 5
}
