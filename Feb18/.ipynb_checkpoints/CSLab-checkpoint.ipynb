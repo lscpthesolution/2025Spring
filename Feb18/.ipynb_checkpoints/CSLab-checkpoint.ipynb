{
 "cells": [
  {
   "cell_type": "markdown",
   "id": "152b9bc8-4d6b-489a-b652-cca83153d1ee",
   "metadata": {},
   "source": [
    "# 1. create a lambda function that takes two arguments and return the sum"
   ]
  },
  {
   "cell_type": "code",
   "execution_count": 28,
   "id": "74889e39-865f-48cf-98f9-db82eb84e352",
   "metadata": {},
   "outputs": [],
   "source": [
    "# complete the code\n",
    "f1 = lambda x, y: x+y"
   ]
  },
  {
   "cell_type": "code",
   "execution_count": 29,
   "id": "bd61f661-0333-4d05-84c7-beb183ffe471",
   "metadata": {},
   "outputs": [
    {
     "data": {
      "text/plain": [
       "18"
      ]
     },
     "execution_count": 29,
     "metadata": {},
     "output_type": "execute_result"
    }
   ],
   "source": [
    "f1(3,15)"
   ]
  },
  {
   "cell_type": "markdown",
   "id": "e6ed522a-84ef-44b3-bea8-c6fc1c5dbc80",
   "metadata": {},
   "source": [
    "### 2. sort the list below based on the scores."
   ]
  },
  {
   "cell_type": "code",
   "execution_count": 30,
   "id": "56e663c6-e7d8-4752-a3f5-6e65ac15731b",
   "metadata": {},
   "outputs": [],
   "source": [
    "target = [('English', 88), ('Science', 90), ('Maths', 97), ('Social sciences', 82)]"
   ]
  },
  {
   "cell_type": "code",
   "execution_count": 31,
   "id": "0c1b0575-9415-4f12-b8fa-7fcb6ed86f9a",
   "metadata": {},
   "outputs": [],
   "source": [
    "# complete the code\n",
    "target.sort(key=lambda x:x[1])"
   ]
  },
  {
   "cell_type": "code",
   "execution_count": 32,
   "id": "dfd41506-0f1c-48a6-9e30-d46cbf127304",
   "metadata": {},
   "outputs": [
    {
     "data": {
      "text/plain": [
       "[('Social sciences', 82), ('English', 88), ('Science', 90), ('Maths', 97)]"
      ]
     },
     "execution_count": 32,
     "metadata": {},
     "output_type": "execute_result"
    }
   ],
   "source": [
    "target"
   ]
  },
  {
   "cell_type": "code",
   "execution_count": 33,
   "id": "c4dee9db-1596-4b95-a651-927c9631c380",
   "metadata": {},
   "outputs": [],
   "source": [
    "# Sort the list of dictionaries ('models') based on the value associated with the 'color' key in each dictionary\n",
    "# Uses the 'sorted()' function with a lambda function as the sorting key to sort based on the 'color' value"
   ]
  },
  {
   "cell_type": "code",
   "execution_count": 34,
   "id": "058e2ecb-b542-4371-a4a9-3f5cefc006f8",
   "metadata": {},
   "outputs": [],
   "source": [
    "models = [\n",
    "    {'make': 'Nokia', 'model': 216, 'color': 'Black'},\n",
    "    {'make': 'Mi Max', 'model': '2', 'color': 'Gold'},\n",
    "    {'make': 'Samsung', 'model': 7, 'color': 'Blue'}\n",
    "]"
   ]
  },
  {
   "cell_type": "code",
   "execution_count": 35,
   "id": "5dfd06ed-93e6-40e0-9975-996911577289",
   "metadata": {},
   "outputs": [],
   "source": [
    "# complete the code\n",
    "result = sorted(models, key=lambda x: x['color'])"
   ]
  },
  {
   "cell_type": "code",
   "execution_count": 36,
   "id": "71da83ac-4c11-48dd-94f4-79d34f17eb9b",
   "metadata": {
    "scrolled": true
   },
   "outputs": [
    {
     "data": {
      "text/plain": [
       "[{'make': 'Nokia', 'model': 216, 'color': 'Black'},\n",
       " {'make': 'Samsung', 'model': 7, 'color': 'Blue'},\n",
       " {'make': 'Mi Max', 'model': '2', 'color': 'Gold'}]"
      ]
     },
     "execution_count": 36,
     "metadata": {},
     "output_type": "execute_result"
    }
   ],
   "source": [
    "result"
   ]
  },
  {
   "cell_type": "markdown",
   "id": "1e73c688-cf91-4c3b-b965-f04652b5e751",
   "metadata": {},
   "source": [
    "### 3. square and cube every number in a given list of integers using Lambda."
   ]
  },
  {
   "cell_type": "code",
   "execution_count": 37,
   "id": "50a8a4f1-a549-4086-be20-13eef4624583",
   "metadata": {},
   "outputs": [],
   "source": [
    "nums = [1, 2, 3, 4, 5, 6, 7, 8, 9, 10]"
   ]
  },
  {
   "cell_type": "code",
   "execution_count": 38,
   "id": "d90be9cb-3979-47a8-a919-0a02fc52fdcc",
   "metadata": {},
   "outputs": [],
   "source": [
    "# complete the code\n",
    "outcome = list(map(lambda x: x ** 2, nums))"
   ]
  },
  {
   "cell_type": "code",
   "execution_count": 39,
   "id": "a49aae1e-d769-4edd-950b-64b0d98d518d",
   "metadata": {},
   "outputs": [
    {
     "data": {
      "text/plain": [
       "[1, 4, 9, 16, 25, 36, 49, 64, 81, 100]"
      ]
     },
     "execution_count": 39,
     "metadata": {},
     "output_type": "execute_result"
    }
   ],
   "source": [
    "outcome"
   ]
  },
  {
   "cell_type": "code",
   "execution_count": 40,
   "id": "aef93519-61d6-4ae0-956d-643bb2152254",
   "metadata": {},
   "outputs": [],
   "source": [
    "# complete the code\n",
    "outcome = list(map(lambda x: x ** 3, nums))"
   ]
  },
  {
   "cell_type": "code",
   "execution_count": 41,
   "id": "db6a1a8f-75b5-4a68-a23b-0fb00b0dbaf5",
   "metadata": {},
   "outputs": [
    {
     "data": {
      "text/plain": [
       "[1, 8, 27, 64, 125, 216, 343, 512, 729, 1000]"
      ]
     },
     "execution_count": 41,
     "metadata": {},
     "output_type": "execute_result"
    }
   ],
   "source": [
    "outcome"
   ]
  },
  {
   "cell_type": "markdown",
   "id": "8cc20348-334a-4068-8b53-b947b02d78f8",
   "metadata": {},
   "source": [
    "### 4. Check all the elements' types in the list and return them as a list. Count that elements whose types are not int or float and return it at the end."
   ]
  },
  {
   "cell_type": "code",
   "execution_count": 42,
   "id": "7e4287c4-e1d0-471d-b539-e7cadcf92a58",
   "metadata": {},
   "outputs": [
    {
     "name": "stdout",
     "output_type": "stream",
     "text": [
      "\n"
     ]
    }
   ],
   "source": [
    "given = [\"Do it by yourself\", 1234, 3.41, True, print(), 1111, 2.141414, 8.00, list(), tuple(), dict(), set()]"
   ]
  },
  {
   "cell_type": "code",
   "execution_count": 43,
   "id": "c1bb69fa-301c-4f7c-87ee-421b30e17691",
   "metadata": {},
   "outputs": [],
   "source": [
    "# complete the code\n",
    "answer = list(map(lambda x: type(x), given))"
   ]
  },
  {
   "cell_type": "code",
   "execution_count": 44,
   "id": "7f0799db-a6f8-433f-b161-3400aaeb4de8",
   "metadata": {},
   "outputs": [
    {
     "data": {
      "text/plain": [
       "[str, int, float, bool, NoneType, int, float, float, list, tuple, dict, set]"
      ]
     },
     "execution_count": 44,
     "metadata": {},
     "output_type": "execute_result"
    }
   ],
   "source": [
    "answer"
   ]
  },
  {
   "cell_type": "code",
   "execution_count": 45,
   "id": "794c4220-c9b1-413e-9d1c-136e3fbc767b",
   "metadata": {},
   "outputs": [],
   "source": [
    "# complete the code\n",
    "nextAnswer = list(filter(lambda x: x != float, answer))"
   ]
  },
  {
   "cell_type": "code",
   "execution_count": 46,
   "id": "86bdaea5-29df-4c86-820b-4234f6dffd2d",
   "metadata": {},
   "outputs": [
    {
     "data": {
      "text/plain": [
       "[str, int, bool, NoneType, int, list, tuple, dict, set]"
      ]
     },
     "execution_count": 46,
     "metadata": {},
     "output_type": "execute_result"
    }
   ],
   "source": [
    "nextAnswer"
   ]
  },
  {
   "cell_type": "code",
   "execution_count": 47,
   "id": "3fec6c6e-9005-4c73-b0b9-e9b60857ef79",
   "metadata": {},
   "outputs": [],
   "source": [
    "# complete the code\n",
    "secondAnswer = list(filter(lambda x: x != int, nextAnswer))"
   ]
  },
  {
   "cell_type": "code",
   "execution_count": 48,
   "id": "9b45ec99-40a3-4365-a058-6cf093431b0d",
   "metadata": {},
   "outputs": [
    {
     "data": {
      "text/plain": [
       "[str, bool, NoneType, list, tuple, dict, set]"
      ]
     },
     "execution_count": 48,
     "metadata": {},
     "output_type": "execute_result"
    }
   ],
   "source": [
    "secondAnswer"
   ]
  },
  {
   "cell_type": "code",
   "execution_count": 49,
   "id": "8325ff9b-3c02-4631-acf0-e65a5bfd654f",
   "metadata": {},
   "outputs": [],
   "source": [
    "# complete the code\n",
    "thirdAnswer = list(map(lambda x:1, secondAnswer))"
   ]
  },
  {
   "cell_type": "code",
   "execution_count": 50,
   "id": "08c32861-a247-4799-9348-e8bd0d0759bc",
   "metadata": {},
   "outputs": [
    {
     "data": {
      "text/plain": [
       "[1, 1, 1, 1, 1, 1, 1]"
      ]
     },
     "execution_count": 50,
     "metadata": {},
     "output_type": "execute_result"
    }
   ],
   "source": [
    "thirdAnswer"
   ]
  },
  {
   "cell_type": "code",
   "execution_count": 51,
   "id": "eda7fd07-7d9e-441a-9f0d-a60b1c3801ab",
   "metadata": {},
   "outputs": [],
   "source": [
    "from functools import reduce"
   ]
  },
  {
   "cell_type": "code",
   "execution_count": 52,
   "id": "cb8767bf-f933-45a9-bc50-650b7d181770",
   "metadata": {},
   "outputs": [],
   "source": [
    "# complete the code\n",
    "finalAnswer = reduce(lambda x, y:x+y, thirdAnswer,0)"
   ]
  },
  {
   "cell_type": "code",
   "execution_count": 53,
   "id": "3162f84f-2783-41cb-998b-2a61196a8151",
   "metadata": {},
   "outputs": [
    {
     "data": {
      "text/plain": [
       "7"
      ]
     },
     "execution_count": 53,
     "metadata": {},
     "output_type": "execute_result"
    }
   ],
   "source": [
    "finalAnswer"
   ]
  },
  {
   "cell_type": "markdown",
   "id": "36abec96-48e4-450f-9a0d-52ff3c35a682",
   "metadata": {},
   "source": [
    "### 5. Do the problem 4 with one lambda function. You may need to use more than one inner lambda function"
   ]
  },
  {
   "cell_type": "code",
   "execution_count": 54,
   "id": "1cf5b508-09ae-4070-a706-c39c4049d9f1",
   "metadata": {},
   "outputs": [
    {
     "data": {
      "text/plain": [
       "7"
      ]
     },
     "execution_count": 54,
     "metadata": {},
     "output_type": "execute_result"
    }
   ],
   "source": [
    "# complete the code\n",
    "reduce(lambda x, y:x+y, list(map(lambda x:1, list(filter(lambda x: x != int, list(filter(lambda x: x != int, list(filter(lambda x: x != float, list(map(lambda x: type(x), given)))))))))),0)         "
   ]
  },
  {
   "cell_type": "code",
   "execution_count": null,
   "id": "bf6ee2b7-a60d-487e-bc25-3beaf795ba71",
   "metadata": {},
   "outputs": [],
   "source": []
  }
 ],
 "metadata": {
  "kernelspec": {
   "display_name": "Python 3 (ipykernel)",
   "language": "python",
   "name": "python3"
  },
  "language_info": {
   "codemirror_mode": {
    "name": "ipython",
    "version": 3
   },
   "file_extension": ".py",
   "mimetype": "text/x-python",
   "name": "python",
   "nbconvert_exporter": "python",
   "pygments_lexer": "ipython3",
   "version": "3.12.7"
  }
 },
 "nbformat": 4,
 "nbformat_minor": 5
}
